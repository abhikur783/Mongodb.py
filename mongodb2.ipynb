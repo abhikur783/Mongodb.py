{
 "cells": [
  {
   "cell_type": "code",
   "execution_count": null,
   "id": "abe2bdc3-a216-4340-a171-3c22b8f0abea",
   "metadata": {},
   "outputs": [],
   "source": [
    "Q1. What is MongoDB? Explain non-relational databases in short. In which scenarios it is preferred to use\n",
    "MongoDB over SQL databases?\n",
    "\n",
    "MongoDB is a popular open-source NoSQL (non-relational) database that is used to store, manage and retrieve unstructured and semi-structured data. \n",
    "It is a document-based database, meaning that data is stored as documents instead of tables with rows and columns, which is the case for traditional \n",
    "SQL (relational) databases.\n",
    "\n",
    "Non-relational databases, like MongoDB, are designed to handle unstructured and semi-structured data, such as documents, images, videos, and social \n",
    "media feeds. They provide greater flexibility in data modeling, which allows for faster and more efficient data retrieval. Non-relational databases \n",
    "also offer horizontal scalability, which allows for distributed database architecture to handle large amounts of data.\n",
    "\n",
    "MongoDB is preferred over SQL databases in scenarios where the data being managed is unstructured and does not require complex transactional support.\n",
    "It is particularly well-suited for use cases where large amounts of data are being generated, such as in e-commerce, social media, and IoT\n",
    "(Internet of Things) applications. Additionally, MongoDB is often used in real-time analytics, content management systems, and mobile applications.\n",
    "\n",
    "Compared to SQL databases, MongoDB offers several advantages, such as:\n",
    "\n",
    "1.Flexible data modeling: MongoDB's document-based data model allows for flexible and dynamic data modeling, which makes it easy to modify and\n",
    "update the data schema.\n",
    "\n",
    "2.Scalability: MongoDB can be easily scaled horizontally, which means it can handle large amounts of data and high traffic loads.\n",
    "\n",
    "3.Performance: MongoDB is designed to handle large volumes of unstructured data and provides fast and efficient querying capabilities.\n",
    "\n",
    "4.Cost-effectiveness: MongoDB is open-source software, which makes it an affordable alternative to proprietary SQL databases.\n",
    "\n",
    "However, SQL databases are still preferred in scenarios where complex transactions need to be managed, such as in financial applications, or where \n",
    "data consistency is a critical requirement. Additionally, SQL databases are still the standard choice for business intelligence and reporting\n",
    "applications.\n",
    "\n"
   ]
  },
  {
   "cell_type": "code",
   "execution_count": null,
   "id": "ff0c1c08-a365-4c23-898e-4a88e058dae6",
   "metadata": {},
   "outputs": [],
   "source": [
    "Q2. State and Explain the features of MongoDB.\n",
    "\n",
    "MongoDB is a popular document-oriented NoSQL database that is known for its flexibility, scalability, and performance. Here are some of the key\n",
    "features of MongoDB:\n",
    "\n",
    "Document-oriented: MongoDB is a document-oriented database, which means that data is stored in documents. A document is a JSON-like data structure \n",
    "that contains field-value pairs, making it easy to store and query complex data.\n",
    "\n",
    "Scalable: MongoDB is designed to be scalable, both vertically and horizontally. It can handle large volumes of data and can be easily scaled up or \n",
    "down by adding or removing nodes.\n",
    "\n",
    "High Performance: MongoDB is designed to provide high performance even with large amounts of data. It uses a number of features to improve \n",
    "performance, such as indexing, sharding, and aggregation.\n",
    "\n",
    "Flexible Data Model: MongoDB has a flexible data model that allows for the storage of a variety of data types, including arrays, documents, and\n",
    "binary data. This makes it ideal for storing data that has changing requirements.\n",
    "\n",
    "Automatic Sharding: MongoDB can automatically distribute data across multiple nodes in a cluster, which allows for horizontal scaling.\n",
    "\n",
    "Rich Query Language: MongoDB provides a rich query language that allows for complex queries and aggregation operations. The query language is based \n",
    "on JavaScript, which makes it easy to learn and use.\n",
    "\n",
    "High Availability: MongoDB provides high availability through replica sets, which are groups of MongoDB instances that store the same data. If one\n",
    "\n",
    "\n",
    "node fails, the replica set can automatically elect a new primary node to ensure continued availability.\n",
    "\n",
    "Indexing: MongoDB supports a variety of indexing options, including primary, secondary, and compound indexes. Indexes can improve query performance\n",
    "and reduce the amount of time it takes to access data.\n",
    "\n",
    "Overall, MongoDB is a flexible, scalable, and high-performance NoSQL database that is ideal for a wide range of applications. Its document-oriented\n",
    "data model, flexible schema, and powerful query language make it an attractive choice for developers who need to store and manage complex data."
   ]
  },
  {
   "cell_type": "code",
   "execution_count": null,
   "id": "0a51f5f4-76fe-40db-8482-fd427e26ef7a",
   "metadata": {},
   "outputs": [],
   "source": [
    "Q3. Write a code to connect MongoDB to Python. Also, create a database and a collection in MongoDB.\n",
    "To connect to MongoDB from Python, we need to use the PyMongo library, which is a Python driver for MongoDB. Here is an example code that shows how to connect to MongoDB, create a database, and create a collection:"
   ]
  },
  {
   "cell_type": "code",
   "execution_count": null,
   "id": "4612263b-4d7e-4cfc-bffc-22b3a1d892aa",
   "metadata": {},
   "outputs": [],
   "source": [
    "import pymongo\n",
    "\n",
    "# establish a connection to the MongoDB server\n",
    "client = pymongo.MongoClient(\"mongodb://localhost:27017/\")\n",
    "\n",
    "# create a database\n",
    "mydb = client[\"mydatabase\"]\n",
    "\n",
    "# create a collection\n",
    "mycol = mydb[\"customers\"]\n"
   ]
  },
  {
   "cell_type": "code",
   "execution_count": null,
   "id": "cbba2ae0-a551-4a8d-a60f-01bdf5dc7a5f",
   "metadata": {},
   "outputs": [],
   "source": [
    "In this example code, we first import the PyMongo library. Then, we establish a connection to the MongoDB server running on the local machine at \n",
    "the default port 27017 using the MongoClient function. The URI \"mongodb://localhost:27017/\" specifies the server location.\n",
    "\n",
    "Next, we create a database named \"mydatabase\" using the client object. If the database does not exist, it will be created automatically when we \n",
    "create a collection. If the database already exists, it will simply connect to it.\n",
    "\n",
    "Finally, we create a collection named \"customers\" in the \"mydatabase\" database using the mydb object. Again, if the collection does not exist, \n",
    "it will be created automatically. If the collection already exists, it will simply connect to it.\n",
    "\n",
    "We can now perform CRUD (Create, Read, Update, Delete) operations on the \"customers\" collection.\n"
   ]
  },
  {
   "cell_type": "code",
   "execution_count": null,
   "id": "6efb96ea-6d68-4b97-801b-181abf9bd4b0",
   "metadata": {},
   "outputs": [],
   "source": [
    "Q4. Using the database and the collection created in question number 3, write a code to insert one record,\n",
    "and insert many records. Use the find() and find_one() methods to print the inserted record."
   ]
  },
  {
   "cell_type": "code",
   "execution_count": null,
   "id": "f2d21fd4-a550-424c-a5b8-62dc6d7fde44",
   "metadata": {},
   "outputs": [],
   "source": [
    "Sure, here's an example code that shows how to insert one record and insert multiple records into the \"customers\" collection, and then use the find() and find_one() methods to print the inserted record(s):"
   ]
  },
  {
   "cell_type": "code",
   "execution_count": null,
   "id": "44174f22-e519-4a84-87c0-37d21600c5d3",
   "metadata": {},
   "outputs": [],
   "source": [
    "import pymongo\n",
    "\n",
    "# establish a connection to the MongoDB server\n",
    "client = pymongo.MongoClient(\"mongodb://localhost:27017/\")\n",
    "\n",
    "# create a database and a collection\n",
    "mydb = client[\"mydatabase\"]\n",
    "mycol = mydb[\"customers\"]\n",
    "\n",
    "# insert one record\n",
    "mydict = { \"name\": \"John\", \"address\": \"Highway 37\" }\n",
    "x = mycol.insert_one(mydict)\n",
    "\n",
    "# print the inserted record\n",
    "print(mycol.find_one())\n",
    "\n",
    "# insert multiple records\n",
    "mylist = [\n",
    "  { \"name\": \"Amy\", \"address\": \"Apple st 652\" },\n",
    "  { \"name\": \"Hannah\", \"address\": \"Mountain 21\" },\n",
    "  { \"name\": \"Michael\", \"address\": \"Valley 345\" },\n",
    "  { \"name\": \"Sandy\", \"address\": \"Ocean blvd 2\" },\n",
    "  { \"name\": \"Betty\", \"address\": \"Green Grass 1\" },\n",
    "  { \"name\": \"Richard\", \"address\": \"Sky st 331\" },\n",
    "  { \"name\": \"Susan\", \"address\": \"One way 98\" },\n",
    "  { \"name\": \"Vicky\", \"address\": \"Yellow Garden 2\" },\n",
    "  { \"name\": \"Ben\", \"address\": \"Park Lane 38\" },\n",
    "  { \"name\": \"William\", \"address\": \"Central st 954\" },\n",
    "  { \"name\": \"Chuck\", \"address\": \"Main Road 989\" },\n",
    "  { \"name\": \"Viola\", \"address\": \"Sideway 1633\" }\n",
    "]\n",
    "y = mycol.insert_many(mylist)\n",
    "\n",
    "# print all the inserted records\n",
    "for record in mycol.find():\n",
    "    print(record)\n"
   ]
  },
  {
   "cell_type": "code",
   "execution_count": null,
   "id": "fbe6fc7c-b008-4fa2-9b08-f9be84013f40",
   "metadata": {},
   "outputs": [],
   "source": [
    "In this example code, we first connect to the MongoDB server and create a database and a collection named \"mydatabase\" and \"customers\" respectively, as shown in question 3.\n",
    "\n",
    "Then, we insert one record into the \"customers\" collection using the insert_one() method. We pass a dictionary containing the key-value pairs for the record we want to insert. The insert_one() method returns an object of type InsertOneResult that contains information about the inserted record, such as its ID. In this example, we don't use this object, so we just assign it to a variable x.\n",
    "\n",
    "After that, we use the find_one() method to print the inserted record. This method returns the first record that matches a query. In this case, since we don't provide a query, it will return the first record in the collection.\n",
    "\n",
    "Next, we insert multiple records into the \"customers\" collection using the insert_many() method. We pass a list of dictionaries, where each dictionary contains the key-value pairs for a record. The insert_many() method returns an object of type InsertManyResult that contains information about the inserted records, such as their IDs. In this example, we don't use this object, so we just assign it to a variable y.\n",
    "\n",
    "Finally, we use the find() method to print all the inserted records. This method returns a cursor object that we can iterate over to get all the records in the collection. In this example, we use a for loop to print each record.\n",
    "\n",
    "\n",
    "\n"
   ]
  },
  {
   "cell_type": "code",
   "execution_count": null,
   "id": "7d871369-e0fb-4d77-be4a-0b9e375188a4",
   "metadata": {},
   "outputs": [],
   "source": [
    "The find() method in MongoDB is used to query a collection and retrieve documents that match a certain criteria. The method returns a cursor object that allows you to iterate over the documents that match the query.\n",
    "\n",
    "The find() method takes one or two arguments. The first argument is a query object that specifies the criteria for matching documents. The query object is a dictionary that contains key-value pairs, where the keys are the names of fields in the documents and the values are the values to match against. The second argument is an optional projection object that specifies which fields to include or exclude from the returned documents.\n",
    "\n",
    "Here's an example code that demonstrates how to use the find() method to query the \"customers\" collection in the \"mydatabase\" database and retrieve documents that match a certain criteria:"
   ]
  },
  {
   "cell_type": "code",
   "execution_count": null,
   "id": "fbe401dc-b356-43da-bb30-7186e491cbbf",
   "metadata": {},
   "outputs": [],
   "source": [
    "import pymongo\n",
    "\n",
    "# establish a connection to the MongoDB server\n",
    "client = pymongo.MongoClient(\"mongodb://localhost:27017/\")\n",
    "\n",
    "# select the database and collection\n",
    "mydb = client[\"mydatabase\"]\n",
    "mycol = mydb[\"customers\"]\n",
    "\n",
    "# define the query and projection objects\n",
    "query = { \"address\": \"Park Lane 38\" }\n",
    "projection = { \"name\": 1, \"address\": 1 }\n",
    "\n",
    "# perform the query\n",
    "cursor = mycol.find(query, projection)\n",
    "\n",
    "# print the matching documents\n",
    "for document in cursor:\n",
    "    print(document)\n"
   ]
  },
  {
   "cell_type": "code",
   "execution_count": null,
   "id": "871d8005-61fd-409d-b232-40f879426e0b",
   "metadata": {},
   "outputs": [],
   "source": [
    "In this example code, we first connect to the MongoDB server and select the \"mydatabase\" database and the \"customers\" collection.\n",
    "\n",
    "Then, we define a query object that specifies the criteria for matching documents. In this case, we want to retrieve documents where the value of \n",
    "the \"address\" field is \"Park Lane 38\". We also define a projection object that specifies which fields to include in the returned documents. In this \n",
    "case, we want to include\n",
    "the \"name\" and \"address\" fields.\n",
    "\n",
    "Next, we perform the query using the find() method. We pass the query and projection objects as arguments. The method returns a cursor object that we can use to iterate over the matching documents.\n",
    "\n",
    "Finally, we use a for loop to print each document returned by the cursor object. In this example, we simply print the documents to the console. The output will be the matching documents, including only the \"name\" and \"address\" fields."
   ]
  },
  {
   "cell_type": "code",
   "execution_count": null,
   "id": "b7971f71-16b4-4a82-bc45-7387af14836f",
   "metadata": {},
   "outputs": [],
   "source": [
    "Q6. Explain the sort() method. Give an example to demonstrate sorting in MongoDB.\n",
    "In MongoDB, the sort() method is used to sort the results of a query in ascending or descending order based on one or more fields.\n",
    "The sort() method can be used with the find() method to return the documents in a collection in a sorted order.\n",
    "\n",
    "The syntax of the sort() method is as follows:\n",
    "\n",
    "lua\n"
   ]
  },
  {
   "cell_type": "code",
   "execution_count": null,
   "id": "e32ecd0d-cda0-4b39-9640-d2af95fa88a8",
   "metadata": {},
   "outputs": [],
   "source": [
    "db.collection.find().sort({ field1: 1, field2: -1 })\n"
   ]
  },
  {
   "cell_type": "code",
   "execution_count": null,
   "id": "60c01af8-9870-44ab-b297-4e06cd41717d",
   "metadata": {},
   "outputs": [],
   "source": [
    "In this syntax, field1 and field2 are the fields to sort by. The value 1 specifies that the sorting is in ascending order and -1 specifies that \n",
    "the sorting is in descending order.\n",
    "\n",
    "Here's an example to demonstrate sorting in MongoDB. Suppose we have a collection named books that contains documents with fields title, author, and\n",
    "published_date. We can use the sort() method to sort the documents in the books collection in ascending order by published_date, like this:"
   ]
  },
  {
   "cell_type": "code",
   "execution_count": null,
   "id": "008573b3-6b04-43e0-a448-c76a2ca410f7",
   "metadata": {},
   "outputs": [],
   "source": [
    "db.books.find().sort({ published_date: 1 })\n"
   ]
  },
  {
   "cell_type": "code",
   "execution_count": null,
   "id": "c30425d0-7623-445e-b67f-324bbd84d491",
   "metadata": {},
   "outputs": [],
   "source": [
    "This query returns all the documents in the books collection sorted by their published_date field in ascending order.\n",
    "\n",
    "We can also sort the documents in descending order by specifying -1 instead of 1:"
   ]
  },
  {
   "cell_type": "code",
   "execution_count": null,
   "id": "1b6c0336-09c9-4ea5-880e-d603c1eeea54",
   "metadata": {},
   "outputs": [],
   "source": [
    "db.books.find().sort({ published_date: -1 })\n"
   ]
  },
  {
   "cell_type": "code",
   "execution_count": null,
   "id": "74e8042d-3ab5-4fc9-8b08-d18fe7ad7bbb",
   "metadata": {},
   "outputs": [],
   "source": [
    "This query returns all the documents in the books collection sorted by their published_date field in descending order."
   ]
  },
  {
   "cell_type": "code",
   "execution_count": null,
   "id": "71569faa-bd74-4612-83a9-c4fc093a485e",
   "metadata": {},
   "outputs": [],
   "source": [
    "Q7. Explain why delete_one(), delete_many(), and drop() is used."
   ]
  },
  {
   "cell_type": "code",
   "execution_count": null,
   "id": "6cc98277-b7b9-4c21-a25b-5960ec3eeb16",
   "metadata": {},
   "outputs": [],
   "source": [
    "In MongoDB, there are several methods that can be used to remove documents from a collection. The delete_one(), delete_many(), and drop() methods\n",
    "are used for different purposes.\n",
    "\n",
    "delete_one() method:\n",
    "The delete_one() method is used to delete a single document that matches a specified filter. It removes the first document that matches the filter\n",
    "criteria and returns a DeleteResult object that contains information about the operation. If multiple documents match the filter criteria, only the\n",
    "first document that matches the criteria is deleted.\n",
    "\n",
    "Here's an example of how to use the delete_one() method:"
   ]
  },
  {
   "cell_type": "code",
   "execution_count": null,
   "id": "88e00bf7-ba81-4a34-891d-d6300adbd229",
   "metadata": {},
   "outputs": [],
   "source": [
    "db.collection.delete_one({ field: value })\n"
   ]
  },
  {
   "cell_type": "code",
   "execution_count": null,
   "id": "cb1e100e-074e-4f4a-83c9-1e1fc1e05934",
   "metadata": {},
   "outputs": [],
   "source": [
    "In this example, collection is the name of the collection, and field and value are the filter criteria that specify which document to delete.\n",
    "\n",
    "delete_many() method:\n",
    "The delete_many() method is used to delete all documents that match a specified filter. It removes all the documents that match the filter criteria \n",
    "and returns a DeleteResult object that contains information about the operation.\n",
    "\n",
    "Here's an example of how to use the delete_many() method:"
   ]
  },
  {
   "cell_type": "code",
   "execution_count": null,
   "id": "73d2a88e-368c-4792-b9a2-5de21e0caa58",
   "metadata": {},
   "outputs": [],
   "source": [
    "db.collection.delete_many({ field: value })\n"
   ]
  },
  {
   "cell_type": "code",
   "execution_count": null,
   "id": "01c41f69-1c78-4d2c-9a02-0431b562e896",
   "metadata": {},
   "outputs": [],
   "source": [
    "In MongoDB, there are several methods that can be used to remove documents from a collection. The delete_one(), delete_many(), and drop() methods\n",
    "are used for different purposes.\n",
    "\n",
    "delete_one() method:\n",
    "The delete_one() method is used to delete a single document that matches a specified filter. It removes the first document that matches the filter \n",
    "criteria and returns a DeleteResult object that contains information about the operation. If multiple documents match the filter criteria, only the\n",
    "first document that matches the criteria is deleted.\n",
    "\n",
    "Here's an example of how to use the delete_one() method:\n",
    "\n",
    "css\n",
    "Copy code\n",
    "db.collection.delete_one({ field: value })\n",
    "In this example, collection is the name of the collection, and field and value are the filter criteria that specify which document to delete.\n",
    "\n",
    "delete_many() method:\n",
    "The delete_many() method is used to delete all documents that match a specified filter. It removes all the documents that match the filter criteria \n",
    "and returns a DeleteResult object that contains information about the operation.\n",
    "\n",
    "Here's an example of how to use the delete_many() method:\n",
    "\n",
    "css\n",
    "Copy code\n",
    "db.collection.delete_many({ field: value })\n",
    "In this example, collection is the name of the collection, and field and value are the filter criteria that specify which documents to delete.\n",
    "\n",
    "drop() method:\n",
    "The drop() method is used to drop an entire collection from the database. It removes all the documents in the collection and the collection itself. \n",
    "This method does not take any arguments and returns a true value if the collection was dropped successfully.\n",
    "\n",
    "Here's an example of how to use the drop() method:"
   ]
  },
  {
   "cell_type": "code",
   "execution_count": null,
   "id": "574e9abe-2800-4435-aa51-c9d964639d61",
   "metadata": {},
   "outputs": [],
   "source": [
    "db.collection.drop()\n"
   ]
  },
  {
   "cell_type": "code",
   "execution_count": null,
   "id": "cc20ff33-ae23-4793-baba-22c19fa432aa",
   "metadata": {},
   "outputs": [],
   "source": [
    "In this example, collection is the name of the collection that you want to drop.\n",
    "\n",
    "In summary, the delete_one() method is used to delete a single document, the delete_many() method is used to delete multiple documents, and the\n",
    "drop() method is used to drop an entire collection.\n",
    "\n",
    "\n",
    "\n"
   ]
  }
 ],
 "metadata": {
  "kernelspec": {
   "display_name": "Python 3 (ipykernel)",
   "language": "python",
   "name": "python3"
  },
  "language_info": {
   "codemirror_mode": {
    "name": "ipython",
    "version": 3
   },
   "file_extension": ".py",
   "mimetype": "text/x-python",
   "name": "python",
   "nbconvert_exporter": "python",
   "pygments_lexer": "ipython3",
   "version": "3.10.8"
  }
 },
 "nbformat": 4,
 "nbformat_minor": 5
}
